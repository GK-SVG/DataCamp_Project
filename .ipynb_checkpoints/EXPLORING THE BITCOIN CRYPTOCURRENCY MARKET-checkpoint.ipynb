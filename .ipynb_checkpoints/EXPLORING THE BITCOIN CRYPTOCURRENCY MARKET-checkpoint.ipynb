{
 "cells": [
  {
   "cell_type": "markdown",
   "metadata": {},
   "source": [
    "## 1. Bitcoin and Cryptocurrencies: Full dataset, filtering, and reproducibility\n",
    "<p>Since the <a href=\"https://newfronttest.bitcoin.com/bitcoin.pdf\">launch of Bitcoin in 2008</a>, hundreds of similar projects based on the blockchain technology have emerged. We call these cryptocurrencies (also coins or cryptos in the Internet slang). Some are extremely valuable nowadays, and others may have the potential to become extremely valuable in the future<sup>1</sup>. In fact, on the 6th of December of 2017, Bitcoin has a <a href=\"https://en.wikipedia.org/wiki/Market_capitalization\">market capitalization</a> above $200 billion. </p>\n",
    "<p><center>\n",
    "<img src=\"https://assets.datacamp.com/production/project_82/img/bitcoint_market_cap_2017.png\" style=\"width:500px\"> <br> \n",
    "<em>The astonishing increase of Bitcoin market capitalization in 2017.</em></center></p>\n",
    "<p>*<sup>1</sup> <strong>WARNING</strong>: The cryptocurrency market is exceptionally volatile<sup>2</sup> and any money you put in might disappear into thin air.  Cryptocurrencies mentioned here <strong>might be scams</strong> similar to <a href=\"https://en.wikipedia.org/wiki/Ponzi_scheme\">Ponzi Schemes</a> or have many other issues (overvaluation, technical, etc.). <strong>Please do not mistake this for investment advice</strong>. *</p>\n",
    "<p><em><sup>2</sup> <strong>Update on March 2020</strong>: Well, it turned out to be volatile indeed :D</em></p>\n",
    "<p>That said, let's get to business. We will start with a CSV we conveniently downloaded on the 6th of December of 2017 using the coinmarketcap API (NOTE: The public API went private in 2020 and is no longer available) named <code>datasets/coinmarketcap_06122017.csv</code>. </p>"
   ]
  },
  {
   "cell_type": "code",
   "execution_count": null,
   "metadata": {},
   "outputs": [],
   "source": [
    "# Importing pandas\n",
    "import pandas as pd\n",
    "\n",
    "# Importing matplotlib and setting aesthetics for plotting later.\n",
    "import matplotlib.pyplot as plt\n",
    "%matplotlib inline\n",
    "%config InlineBackend.figure_format = 'svg' \n",
    "plt.style.use('fivethirtyeight')\n",
    "\n",
    "# Reading datasets/coinmarketcap_06122017.csv into pandas\n",
    "dec6 = pd.read_csv('datasets/coinmarketcap_06122017.csv')\n",
    "\n",
    "# Selecting the 'id' and the 'market_cap_usd' columns\n",
    "market_cap_raw = dec6[['id','market_cap_usd']]\n",
    "\n",
    "# Counting the number of values\n",
    "display(market_cap_raw.count())"
   ]
  },
  {
   "cell_type": "markdown",
   "metadata": {},
   "source": [
    "## 2. Discard the cryptocurrencies without a market capitalization\n",
    "<p>Why do the <code>count()</code> for <code>id</code> and <code>market_cap_usd</code> differ above? It is because some cryptocurrencies listed in coinmarketcap.com have no known market capitalization, this is represented by <code>NaN</code> in the data, and <code>NaN</code>s are not counted by <code>count()</code>. These cryptocurrencies are of little interest to us in this analysis, so they are safe to remove.</p>"
   ]
  },
  {
   "cell_type": "code",
   "execution_count": null,
   "metadata": {},
   "outputs": [],
   "source": [
    "# Filtering out rows without a market capitalization\n",
    "cap = market_cap_raw.query('market_cap_usd > 0')\n",
    "\n",
    "# Counting the number of values again\n",
    "display(cap.count())"
   ]
  },
  {
   "cell_type": "markdown",
   "metadata": {},
   "source": [
    "# 3. How big is Bitcoin compared with the rest of the cryptocurrencies?\n",
    "At the time of writing, Bitcoin is under serious competition from other projects, but it is still dominant in market capitalization. Let's plot the market capitalization for the top 10 coins as a barplot to better visualize this."
   ]
  },
  {
   "cell_type": "code",
   "execution_count": null,
   "metadata": {},
   "outputs": [],
   "source": []
  }
 ],
 "metadata": {
  "kernelspec": {
   "display_name": "Python 3",
   "language": "python",
   "name": "python3"
  },
  "language_info": {
   "codemirror_mode": {
    "name": "ipython",
    "version": 3
   },
   "file_extension": ".py",
   "mimetype": "text/x-python",
   "name": "python",
   "nbconvert_exporter": "python",
   "pygments_lexer": "ipython3",
   "version": "3.7.6"
  }
 },
 "nbformat": 4,
 "nbformat_minor": 4
}
